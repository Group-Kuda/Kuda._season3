{
 "cells": [
  {
   "cell_type": "markdown",
   "metadata": {},
   "source": [
    "# 4.1 문제 정의"
   ]
  },
  {
   "cell_type": "markdown",
   "metadata": {},
   "source": [
    "## 데이터 살펴보기"
   ]
  },
  {
   "cell_type": "markdown",
   "metadata": {},
   "source": [
    "* 시계열 데이터 제공"
   ]
  },
  {
   "cell_type": "code",
   "execution_count": 47,
   "metadata": {},
   "outputs": [],
   "source": [
    "import numpy as np\n",
    "import random"
   ]
  },
  {
   "cell_type": "code",
   "execution_count": 48,
   "metadata": {},
   "outputs": [],
   "source": [
    "def seed_everything(seed): # 재현성을 위한 seed 고정 \n",
    "    random.seed(seed)\n",
    "    np.random.seed(seed)\n",
    "    os.environ[\"PYTHONHASHSEED\"] = str(seed)"
   ]
  },
  {
   "cell_type": "code",
   "execution_count": 49,
   "metadata": {},
   "outputs": [],
   "source": [
    "seed_everything(0)"
   ]
  },
  {
   "cell_type": "code",
   "execution_count": 2,
   "metadata": {},
   "outputs": [],
   "source": [
    "import pandas as pd\n",
    "import os\n",
    "import warnings\n",
    "\n",
    "warnings.filterwarnings(\"ignore\")\n",
    "\n",
    "train = pd.read_csv('C:/Users/tb990/Documents/studydata/store_credit_card_revenue_data/funda_train.csv')\n",
    "submission = pd.read_csv('C:/Users/tb990/Documents/studydata/store_credit_card_revenue_data/submission.csv')"
   ]
  },
  {
   "cell_type": "code",
   "execution_count": 3,
   "metadata": {},
   "outputs": [
    {
     "data": {
      "text/plain": [
       "1221"
      ]
     },
     "execution_count": 3,
     "metadata": {},
     "output_type": "execute_result"
    }
   ],
   "source": [
    "train[(train['card_id']==3820295) & (train['amount']<0)].shape[0]"
   ]
  },
  {
   "cell_type": "code",
   "execution_count": 4,
   "metadata": {},
   "outputs": [
    {
     "data": {
      "text/plain": [
       "(6556613, 9)"
      ]
     },
     "execution_count": 4,
     "metadata": {},
     "output_type": "execute_result"
    }
   ],
   "source": [
    "train.shape "
   ]
  },
  {
   "cell_type": "code",
   "execution_count": 5,
   "metadata": {},
   "outputs": [
    {
     "data": {
      "text/html": [
       "<div>\n",
       "<style scoped>\n",
       "    .dataframe tbody tr th:only-of-type {\n",
       "        vertical-align: middle;\n",
       "    }\n",
       "\n",
       "    .dataframe tbody tr th {\n",
       "        vertical-align: top;\n",
       "    }\n",
       "\n",
       "    .dataframe thead th {\n",
       "        text-align: right;\n",
       "    }\n",
       "</style>\n",
       "<table border=\"1\" class=\"dataframe\">\n",
       "  <thead>\n",
       "    <tr style=\"text-align: right;\">\n",
       "      <th></th>\n",
       "      <th>store_id</th>\n",
       "      <th>card_id</th>\n",
       "      <th>card_company</th>\n",
       "      <th>transacted_date</th>\n",
       "      <th>transacted_time</th>\n",
       "      <th>installment_term</th>\n",
       "      <th>region</th>\n",
       "      <th>type_of_business</th>\n",
       "      <th>amount</th>\n",
       "    </tr>\n",
       "  </thead>\n",
       "  <tbody>\n",
       "    <tr>\n",
       "      <th>0</th>\n",
       "      <td>0</td>\n",
       "      <td>0</td>\n",
       "      <td>b</td>\n",
       "      <td>2016-06-01</td>\n",
       "      <td>13:13</td>\n",
       "      <td>0</td>\n",
       "      <td>NaN</td>\n",
       "      <td>기타 미용업</td>\n",
       "      <td>1857.142857</td>\n",
       "    </tr>\n",
       "    <tr>\n",
       "      <th>1</th>\n",
       "      <td>0</td>\n",
       "      <td>1</td>\n",
       "      <td>h</td>\n",
       "      <td>2016-06-01</td>\n",
       "      <td>18:12</td>\n",
       "      <td>0</td>\n",
       "      <td>NaN</td>\n",
       "      <td>기타 미용업</td>\n",
       "      <td>857.142857</td>\n",
       "    </tr>\n",
       "    <tr>\n",
       "      <th>2</th>\n",
       "      <td>0</td>\n",
       "      <td>2</td>\n",
       "      <td>c</td>\n",
       "      <td>2016-06-01</td>\n",
       "      <td>18:52</td>\n",
       "      <td>0</td>\n",
       "      <td>NaN</td>\n",
       "      <td>기타 미용업</td>\n",
       "      <td>2000.000000</td>\n",
       "    </tr>\n",
       "    <tr>\n",
       "      <th>3</th>\n",
       "      <td>0</td>\n",
       "      <td>3</td>\n",
       "      <td>a</td>\n",
       "      <td>2016-06-01</td>\n",
       "      <td>20:22</td>\n",
       "      <td>0</td>\n",
       "      <td>NaN</td>\n",
       "      <td>기타 미용업</td>\n",
       "      <td>7857.142857</td>\n",
       "    </tr>\n",
       "    <tr>\n",
       "      <th>4</th>\n",
       "      <td>0</td>\n",
       "      <td>4</td>\n",
       "      <td>c</td>\n",
       "      <td>2016-06-02</td>\n",
       "      <td>11:06</td>\n",
       "      <td>0</td>\n",
       "      <td>NaN</td>\n",
       "      <td>기타 미용업</td>\n",
       "      <td>2000.000000</td>\n",
       "    </tr>\n",
       "  </tbody>\n",
       "</table>\n",
       "</div>"
      ],
      "text/plain": [
       "   store_id  card_id card_company transacted_date transacted_time  \\\n",
       "0         0        0            b      2016-06-01           13:13   \n",
       "1         0        1            h      2016-06-01           18:12   \n",
       "2         0        2            c      2016-06-01           18:52   \n",
       "3         0        3            a      2016-06-01           20:22   \n",
       "4         0        4            c      2016-06-02           11:06   \n",
       "\n",
       "   installment_term region type_of_business       amount  \n",
       "0                 0    NaN           기타 미용업  1857.142857  \n",
       "1                 0    NaN           기타 미용업   857.142857  \n",
       "2                 0    NaN           기타 미용업  2000.000000  \n",
       "3                 0    NaN           기타 미용업  7857.142857  \n",
       "4                 0    NaN           기타 미용업  2000.000000  "
      ]
     },
     "execution_count": 5,
     "metadata": {},
     "output_type": "execute_result"
    }
   ],
   "source": [
    "train.head()"
   ]
  },
  {
   "cell_type": "code",
   "execution_count": 6,
   "metadata": {},
   "outputs": [
    {
     "name": "stdout",
     "output_type": "stream",
     "text": [
      "<class 'pandas.core.frame.DataFrame'>\n",
      "RangeIndex: 6556613 entries, 0 to 6556612\n",
      "Data columns (total 9 columns):\n",
      " #   Column            Dtype  \n",
      "---  ------            -----  \n",
      " 0   store_id          int64  \n",
      " 1   card_id           int64  \n",
      " 2   card_company      object \n",
      " 3   transacted_date   object \n",
      " 4   transacted_time   object \n",
      " 5   installment_term  int64  \n",
      " 6   region            object \n",
      " 7   type_of_business  object \n",
      " 8   amount            float64\n",
      "dtypes: float64(1), int64(3), object(5)\n",
      "memory usage: 450.2+ MB\n"
     ]
    }
   ],
   "source": [
    "train.info()"
   ]
  },
  {
   "cell_type": "markdown",
   "metadata": {},
   "source": [
    "## 데이터 노이즈"
   ]
  },
  {
   "cell_type": "markdown",
   "metadata": {},
   "source": [
    "### (1) 결측값 확인"
   ]
  },
  {
   "cell_type": "code",
   "execution_count": 7,
   "metadata": {},
   "outputs": [
    {
     "data": {
      "text/html": [
       "<div>\n",
       "<style scoped>\n",
       "    .dataframe tbody tr th:only-of-type {\n",
       "        vertical-align: middle;\n",
       "    }\n",
       "\n",
       "    .dataframe tbody tr th {\n",
       "        vertical-align: top;\n",
       "    }\n",
       "\n",
       "    .dataframe thead th {\n",
       "        text-align: right;\n",
       "    }\n",
       "</style>\n",
       "<table border=\"1\" class=\"dataframe\">\n",
       "  <thead>\n",
       "    <tr style=\"text-align: right;\">\n",
       "      <th></th>\n",
       "      <th>store_id</th>\n",
       "      <th>card_id</th>\n",
       "      <th>card_company</th>\n",
       "      <th>transacted_date</th>\n",
       "      <th>transacted_time</th>\n",
       "      <th>installment_term</th>\n",
       "      <th>region</th>\n",
       "      <th>type_of_business</th>\n",
       "      <th>amount</th>\n",
       "    </tr>\n",
       "  </thead>\n",
       "  <tbody>\n",
       "    <tr>\n",
       "      <th>0</th>\n",
       "      <td>0</td>\n",
       "      <td>0</td>\n",
       "      <td>b</td>\n",
       "      <td>2016-06-01</td>\n",
       "      <td>13:13</td>\n",
       "      <td>0</td>\n",
       "      <td>NaN</td>\n",
       "      <td>기타 미용업</td>\n",
       "      <td>1857.142857</td>\n",
       "    </tr>\n",
       "    <tr>\n",
       "      <th>1</th>\n",
       "      <td>0</td>\n",
       "      <td>1</td>\n",
       "      <td>h</td>\n",
       "      <td>2016-06-01</td>\n",
       "      <td>18:12</td>\n",
       "      <td>0</td>\n",
       "      <td>NaN</td>\n",
       "      <td>기타 미용업</td>\n",
       "      <td>857.142857</td>\n",
       "    </tr>\n",
       "    <tr>\n",
       "      <th>2</th>\n",
       "      <td>0</td>\n",
       "      <td>2</td>\n",
       "      <td>c</td>\n",
       "      <td>2016-06-01</td>\n",
       "      <td>18:52</td>\n",
       "      <td>0</td>\n",
       "      <td>NaN</td>\n",
       "      <td>기타 미용업</td>\n",
       "      <td>2000.000000</td>\n",
       "    </tr>\n",
       "    <tr>\n",
       "      <th>3</th>\n",
       "      <td>0</td>\n",
       "      <td>3</td>\n",
       "      <td>a</td>\n",
       "      <td>2016-06-01</td>\n",
       "      <td>20:22</td>\n",
       "      <td>0</td>\n",
       "      <td>NaN</td>\n",
       "      <td>기타 미용업</td>\n",
       "      <td>7857.142857</td>\n",
       "    </tr>\n",
       "    <tr>\n",
       "      <th>4</th>\n",
       "      <td>0</td>\n",
       "      <td>4</td>\n",
       "      <td>c</td>\n",
       "      <td>2016-06-02</td>\n",
       "      <td>11:06</td>\n",
       "      <td>0</td>\n",
       "      <td>NaN</td>\n",
       "      <td>기타 미용업</td>\n",
       "      <td>2000.000000</td>\n",
       "    </tr>\n",
       "  </tbody>\n",
       "</table>\n",
       "</div>"
      ],
      "text/plain": [
       "   store_id  card_id card_company transacted_date transacted_time  \\\n",
       "0         0        0            b      2016-06-01           13:13   \n",
       "1         0        1            h      2016-06-01           18:12   \n",
       "2         0        2            c      2016-06-01           18:52   \n",
       "3         0        3            a      2016-06-01           20:22   \n",
       "4         0        4            c      2016-06-02           11:06   \n",
       "\n",
       "   installment_term region type_of_business       amount  \n",
       "0                 0    NaN           기타 미용업  1857.142857  \n",
       "1                 0    NaN           기타 미용업   857.142857  \n",
       "2                 0    NaN           기타 미용업  2000.000000  \n",
       "3                 0    NaN           기타 미용업  7857.142857  \n",
       "4                 0    NaN           기타 미용업  2000.000000  "
      ]
     },
     "execution_count": 7,
     "metadata": {},
     "output_type": "execute_result"
    }
   ],
   "source": [
    "train[:5]"
   ]
  },
  {
   "cell_type": "markdown",
   "metadata": {},
   "source": [
    "* 지역(region) 열에 결측값이 존재!"
   ]
  },
  {
   "cell_type": "markdown",
   "metadata": {},
   "source": [
    "### (2) 이상치 확인"
   ]
  },
  {
   "cell_type": "code",
   "execution_count": 8,
   "metadata": {},
   "outputs": [
    {
     "data": {
      "text/html": [
       "<div>\n",
       "<style scoped>\n",
       "    .dataframe tbody tr th:only-of-type {\n",
       "        vertical-align: middle;\n",
       "    }\n",
       "\n",
       "    .dataframe tbody tr th {\n",
       "        vertical-align: top;\n",
       "    }\n",
       "\n",
       "    .dataframe thead th {\n",
       "        text-align: right;\n",
       "    }\n",
       "</style>\n",
       "<table border=\"1\" class=\"dataframe\">\n",
       "  <thead>\n",
       "    <tr style=\"text-align: right;\">\n",
       "      <th></th>\n",
       "      <th>store_id</th>\n",
       "      <th>card_id</th>\n",
       "      <th>card_company</th>\n",
       "      <th>transacted_date</th>\n",
       "      <th>transacted_time</th>\n",
       "      <th>installment_term</th>\n",
       "      <th>region</th>\n",
       "      <th>type_of_business</th>\n",
       "      <th>amount</th>\n",
       "    </tr>\n",
       "  </thead>\n",
       "  <tbody>\n",
       "    <tr>\n",
       "      <th>41</th>\n",
       "      <td>0</td>\n",
       "      <td>40</td>\n",
       "      <td>a</td>\n",
       "      <td>2016-06-10</td>\n",
       "      <td>17:26</td>\n",
       "      <td>2</td>\n",
       "      <td>NaN</td>\n",
       "      <td>기타 미용업</td>\n",
       "      <td>-8571.428571</td>\n",
       "    </tr>\n",
       "    <tr>\n",
       "      <th>347</th>\n",
       "      <td>0</td>\n",
       "      <td>285</td>\n",
       "      <td>a</td>\n",
       "      <td>2016-08-04</td>\n",
       "      <td>17:52</td>\n",
       "      <td>0</td>\n",
       "      <td>NaN</td>\n",
       "      <td>기타 미용업</td>\n",
       "      <td>-1857.142857</td>\n",
       "    </tr>\n",
       "    <tr>\n",
       "      <th>731</th>\n",
       "      <td>0</td>\n",
       "      <td>473</td>\n",
       "      <td>g</td>\n",
       "      <td>2016-10-17</td>\n",
       "      <td>10:32</td>\n",
       "      <td>0</td>\n",
       "      <td>NaN</td>\n",
       "      <td>기타 미용업</td>\n",
       "      <td>-2000.000000</td>\n",
       "    </tr>\n",
       "    <tr>\n",
       "      <th>831</th>\n",
       "      <td>0</td>\n",
       "      <td>230</td>\n",
       "      <td>b</td>\n",
       "      <td>2016-11-03</td>\n",
       "      <td>15:36</td>\n",
       "      <td>0</td>\n",
       "      <td>NaN</td>\n",
       "      <td>기타 미용업</td>\n",
       "      <td>-85.714286</td>\n",
       "    </tr>\n",
       "    <tr>\n",
       "      <th>944</th>\n",
       "      <td>0</td>\n",
       "      <td>138</td>\n",
       "      <td>a</td>\n",
       "      <td>2016-11-28</td>\n",
       "      <td>13:21</td>\n",
       "      <td>0</td>\n",
       "      <td>NaN</td>\n",
       "      <td>기타 미용업</td>\n",
       "      <td>-57.142857</td>\n",
       "    </tr>\n",
       "    <tr>\n",
       "      <th>...</th>\n",
       "      <td>...</td>\n",
       "      <td>...</td>\n",
       "      <td>...</td>\n",
       "      <td>...</td>\n",
       "      <td>...</td>\n",
       "      <td>...</td>\n",
       "      <td>...</td>\n",
       "      <td>...</td>\n",
       "      <td>...</td>\n",
       "    </tr>\n",
       "    <tr>\n",
       "      <th>6556242</th>\n",
       "      <td>2136</td>\n",
       "      <td>4663626</td>\n",
       "      <td>b</td>\n",
       "      <td>2019-02-01</td>\n",
       "      <td>21:19</td>\n",
       "      <td>0</td>\n",
       "      <td>제주 제주시</td>\n",
       "      <td>기타 주점업</td>\n",
       "      <td>-13428.571429</td>\n",
       "    </tr>\n",
       "    <tr>\n",
       "      <th>6556448</th>\n",
       "      <td>2136</td>\n",
       "      <td>4663760</td>\n",
       "      <td>d</td>\n",
       "      <td>2019-02-15</td>\n",
       "      <td>00:46</td>\n",
       "      <td>0</td>\n",
       "      <td>제주 제주시</td>\n",
       "      <td>기타 주점업</td>\n",
       "      <td>-6928.571429</td>\n",
       "    </tr>\n",
       "    <tr>\n",
       "      <th>6556485</th>\n",
       "      <td>2136</td>\n",
       "      <td>4663779</td>\n",
       "      <td>b</td>\n",
       "      <td>2019-02-18</td>\n",
       "      <td>02:45</td>\n",
       "      <td>0</td>\n",
       "      <td>제주 제주시</td>\n",
       "      <td>기타 주점업</td>\n",
       "      <td>-5571.428571</td>\n",
       "    </tr>\n",
       "    <tr>\n",
       "      <th>6556489</th>\n",
       "      <td>2136</td>\n",
       "      <td>4663780</td>\n",
       "      <td>d</td>\n",
       "      <td>2019-02-18</td>\n",
       "      <td>21:43</td>\n",
       "      <td>0</td>\n",
       "      <td>제주 제주시</td>\n",
       "      <td>기타 주점업</td>\n",
       "      <td>-8571.428571</td>\n",
       "    </tr>\n",
       "    <tr>\n",
       "      <th>6556608</th>\n",
       "      <td>2136</td>\n",
       "      <td>4663855</td>\n",
       "      <td>d</td>\n",
       "      <td>2019-02-28</td>\n",
       "      <td>23:20</td>\n",
       "      <td>0</td>\n",
       "      <td>제주 제주시</td>\n",
       "      <td>기타 주점업</td>\n",
       "      <td>-4500.000000</td>\n",
       "    </tr>\n",
       "  </tbody>\n",
       "</table>\n",
       "<p>73100 rows × 9 columns</p>\n",
       "</div>"
      ],
      "text/plain": [
       "         store_id  card_id card_company transacted_date transacted_time  \\\n",
       "41              0       40            a      2016-06-10           17:26   \n",
       "347             0      285            a      2016-08-04           17:52   \n",
       "731             0      473            g      2016-10-17           10:32   \n",
       "831             0      230            b      2016-11-03           15:36   \n",
       "944             0      138            a      2016-11-28           13:21   \n",
       "...           ...      ...          ...             ...             ...   \n",
       "6556242      2136  4663626            b      2019-02-01           21:19   \n",
       "6556448      2136  4663760            d      2019-02-15           00:46   \n",
       "6556485      2136  4663779            b      2019-02-18           02:45   \n",
       "6556489      2136  4663780            d      2019-02-18           21:43   \n",
       "6556608      2136  4663855            d      2019-02-28           23:20   \n",
       "\n",
       "         installment_term  region type_of_business        amount  \n",
       "41                      2     NaN           기타 미용업  -8571.428571  \n",
       "347                     0     NaN           기타 미용업  -1857.142857  \n",
       "731                     0     NaN           기타 미용업  -2000.000000  \n",
       "831                     0     NaN           기타 미용업    -85.714286  \n",
       "944                     0     NaN           기타 미용업    -57.142857  \n",
       "...                   ...     ...              ...           ...  \n",
       "6556242                 0  제주 제주시           기타 주점업 -13428.571429  \n",
       "6556448                 0  제주 제주시           기타 주점업  -6928.571429  \n",
       "6556485                 0  제주 제주시           기타 주점업  -5571.428571  \n",
       "6556489                 0  제주 제주시           기타 주점업  -8571.428571  \n",
       "6556608                 0  제주 제주시           기타 주점업  -4500.000000  \n",
       "\n",
       "[73100 rows x 9 columns]"
      ]
     },
     "execution_count": 8,
     "metadata": {},
     "output_type": "execute_result"
    }
   ],
   "source": [
    "train[train['amount']<0]"
   ]
  },
  {
   "cell_type": "markdown",
   "metadata": {},
   "source": [
    "* 매출액(amount) 열에 이상치 존재! \n",
    "* 매출액이 음수 = 환불금액"
   ]
  },
  {
   "cell_type": "markdown",
   "metadata": {},
   "source": [
    "# 4.2 데이터 전처리 "
   ]
  },
  {
   "cell_type": "markdown",
   "metadata": {},
   "source": [
    "## 4.2.1 노이즈 제거"
   ]
  },
  {
   "cell_type": "code",
   "execution_count": 9,
   "metadata": {},
   "outputs": [
    {
     "data": {
      "text/html": [
       "<div>\n",
       "<style scoped>\n",
       "    .dataframe tbody tr th:only-of-type {\n",
       "        vertical-align: middle;\n",
       "    }\n",
       "\n",
       "    .dataframe tbody tr th {\n",
       "        vertical-align: top;\n",
       "    }\n",
       "\n",
       "    .dataframe thead th {\n",
       "        text-align: right;\n",
       "    }\n",
       "</style>\n",
       "<table border=\"1\" class=\"dataframe\">\n",
       "  <thead>\n",
       "    <tr style=\"text-align: right;\">\n",
       "      <th></th>\n",
       "      <th>store_id</th>\n",
       "      <th>card_id</th>\n",
       "      <th>card_company</th>\n",
       "      <th>transacted_date</th>\n",
       "      <th>transacted_time</th>\n",
       "      <th>installment_term</th>\n",
       "      <th>region</th>\n",
       "      <th>type_of_business</th>\n",
       "      <th>amount</th>\n",
       "    </tr>\n",
       "  </thead>\n",
       "  <tbody>\n",
       "    <tr>\n",
       "      <th>0</th>\n",
       "      <td>0</td>\n",
       "      <td>0</td>\n",
       "      <td>b</td>\n",
       "      <td>2016-06-01</td>\n",
       "      <td>13:13</td>\n",
       "      <td>0</td>\n",
       "      <td>NaN</td>\n",
       "      <td>기타 미용업</td>\n",
       "      <td>1857.142857</td>\n",
       "    </tr>\n",
       "    <tr>\n",
       "      <th>1</th>\n",
       "      <td>0</td>\n",
       "      <td>1</td>\n",
       "      <td>h</td>\n",
       "      <td>2016-06-01</td>\n",
       "      <td>18:12</td>\n",
       "      <td>0</td>\n",
       "      <td>NaN</td>\n",
       "      <td>기타 미용업</td>\n",
       "      <td>857.142857</td>\n",
       "    </tr>\n",
       "    <tr>\n",
       "      <th>2</th>\n",
       "      <td>0</td>\n",
       "      <td>2</td>\n",
       "      <td>c</td>\n",
       "      <td>2016-06-01</td>\n",
       "      <td>18:52</td>\n",
       "      <td>0</td>\n",
       "      <td>NaN</td>\n",
       "      <td>기타 미용업</td>\n",
       "      <td>2000.000000</td>\n",
       "    </tr>\n",
       "    <tr>\n",
       "      <th>3</th>\n",
       "      <td>0</td>\n",
       "      <td>3</td>\n",
       "      <td>a</td>\n",
       "      <td>2016-06-01</td>\n",
       "      <td>20:22</td>\n",
       "      <td>0</td>\n",
       "      <td>NaN</td>\n",
       "      <td>기타 미용업</td>\n",
       "      <td>7857.142857</td>\n",
       "    </tr>\n",
       "    <tr>\n",
       "      <th>4</th>\n",
       "      <td>0</td>\n",
       "      <td>4</td>\n",
       "      <td>c</td>\n",
       "      <td>2016-06-02</td>\n",
       "      <td>11:06</td>\n",
       "      <td>0</td>\n",
       "      <td>NaN</td>\n",
       "      <td>기타 미용업</td>\n",
       "      <td>2000.000000</td>\n",
       "    </tr>\n",
       "  </tbody>\n",
       "</table>\n",
       "</div>"
      ],
      "text/plain": [
       "   store_id  card_id card_company transacted_date transacted_time  \\\n",
       "0         0        0            b      2016-06-01           13:13   \n",
       "1         0        1            h      2016-06-01           18:12   \n",
       "2         0        2            c      2016-06-01           18:52   \n",
       "3         0        3            a      2016-06-01           20:22   \n",
       "4         0        4            c      2016-06-02           11:06   \n",
       "\n",
       "   installment_term region type_of_business       amount  \n",
       "0                 0    NaN           기타 미용업  1857.142857  \n",
       "1                 0    NaN           기타 미용업   857.142857  \n",
       "2                 0    NaN           기타 미용업  2000.000000  \n",
       "3                 0    NaN           기타 미용업  7857.142857  \n",
       "4                 0    NaN           기타 미용업  2000.000000  "
      ]
     },
     "execution_count": 9,
     "metadata": {},
     "output_type": "execute_result"
    }
   ],
   "source": [
    "import seaborn as sns\n",
    "from tqdm import tqdm\n",
    "import matplotlib.pyplot as plt\n",
    "\n",
    "train.head()"
   ]
  },
  {
   "cell_type": "markdown",
   "metadata": {},
   "source": [
    "* 지역(region) 변수에 결측치가 있음!\n",
    "* 다른 열에도, 모든 열에 결측치가 있는가?"
   ]
  },
  {
   "cell_type": "markdown",
   "metadata": {},
   "source": [
    "### (1) 결측치"
   ]
  },
  {
   "cell_type": "markdown",
   "metadata": {},
   "source": [
    "#### 그래프로 모든 열에 결측치가 있는지 확인"
   ]
  },
  {
   "cell_type": "code",
   "execution_count": 10,
   "metadata": {},
   "outputs": [
    {
     "data": {
      "text/plain": [
       "([0, 1, 2, 3, 4, 5, 6, 7, 8], <a list of 9 Text xticklabel objects>)"
      ]
     },
     "execution_count": 10,
     "metadata": {},
     "output_type": "execute_result"
    },
    {
     "data": {
      "image/png": "[encoded data removed]",
      "text/plain": [
       "<Figure size 936x288 with 1 Axes>"
      ]
     },
     "metadata": {
      "needs_background": "light"
     },
     "output_type": "display_data"
    }
   ],
   "source": [
    "plt.figure(figsize=(13, 4))\n",
    "plt.bar(train.columns, train.isnull().sum()) # \n",
    "plt.xticks(rotation=45)"
   ]
  },
  {
   "cell_type": "markdown",
   "metadata": {},
   "source": [
    "* 지역(region)과 업종속성(type_of_business)에 결측치가 존재\n",
    "* 상점의 지역과 업종 열의 데이터에서 절반 이상이 결측치 => 열 전체 제거 "
   ]
  },
  {
   "cell_type": "markdown",
   "metadata": {},
   "source": [
    "#### 지역과 업종 열 삭제"
   ]
  },
  {
   "cell_type": "code",
   "execution_count": 11,
   "metadata": {},
   "outputs": [
    {
     "data": {
      "text/html": [
       "<div>\n",
       "<style scoped>\n",
       "    .dataframe tbody tr th:only-of-type {\n",
       "        vertical-align: middle;\n",
       "    }\n",
       "\n",
       "    .dataframe tbody tr th {\n",
       "        vertical-align: top;\n",
       "    }\n",
       "\n",
       "    .dataframe thead th {\n",
       "        text-align: right;\n",
       "    }\n",
       "</style>\n",
       "<table border=\"1\" class=\"dataframe\">\n",
       "  <thead>\n",
       "    <tr style=\"text-align: right;\">\n",
       "      <th></th>\n",
       "      <th>store_id</th>\n",
       "      <th>card_id</th>\n",
       "      <th>card_company</th>\n",
       "      <th>transacted_date</th>\n",
       "      <th>transacted_time</th>\n",
       "      <th>installment_term</th>\n",
       "      <th>amount</th>\n",
       "    </tr>\n",
       "  </thead>\n",
       "  <tbody>\n",
       "    <tr>\n",
       "      <th>0</th>\n",
       "      <td>0</td>\n",
       "      <td>0</td>\n",
       "      <td>b</td>\n",
       "      <td>2016-06-01</td>\n",
       "      <td>13:13</td>\n",
       "      <td>0</td>\n",
       "      <td>1857.142857</td>\n",
       "    </tr>\n",
       "    <tr>\n",
       "      <th>1</th>\n",
       "      <td>0</td>\n",
       "      <td>1</td>\n",
       "      <td>h</td>\n",
       "      <td>2016-06-01</td>\n",
       "      <td>18:12</td>\n",
       "      <td>0</td>\n",
       "      <td>857.142857</td>\n",
       "    </tr>\n",
       "    <tr>\n",
       "      <th>2</th>\n",
       "      <td>0</td>\n",
       "      <td>2</td>\n",
       "      <td>c</td>\n",
       "      <td>2016-06-01</td>\n",
       "      <td>18:52</td>\n",
       "      <td>0</td>\n",
       "      <td>2000.000000</td>\n",
       "    </tr>\n",
       "    <tr>\n",
       "      <th>3</th>\n",
       "      <td>0</td>\n",
       "      <td>3</td>\n",
       "      <td>a</td>\n",
       "      <td>2016-06-01</td>\n",
       "      <td>20:22</td>\n",
       "      <td>0</td>\n",
       "      <td>7857.142857</td>\n",
       "    </tr>\n",
       "    <tr>\n",
       "      <th>4</th>\n",
       "      <td>0</td>\n",
       "      <td>4</td>\n",
       "      <td>c</td>\n",
       "      <td>2016-06-02</td>\n",
       "      <td>11:06</td>\n",
       "      <td>0</td>\n",
       "      <td>2000.000000</td>\n",
       "    </tr>\n",
       "  </tbody>\n",
       "</table>\n",
       "</div>"
      ],
      "text/plain": [
       "   store_id  card_id card_company transacted_date transacted_time  \\\n",
       "0         0        0            b      2016-06-01           13:13   \n",
       "1         0        1            h      2016-06-01           18:12   \n",
       "2         0        2            c      2016-06-01           18:52   \n",
       "3         0        3            a      2016-06-01           20:22   \n",
       "4         0        4            c      2016-06-02           11:06   \n",
       "\n",
       "   installment_term       amount  \n",
       "0                 0  1857.142857  \n",
       "1                 0   857.142857  \n",
       "2                 0  2000.000000  \n",
       "3                 0  7857.142857  \n",
       "4                 0  2000.000000  "
      ]
     },
     "execution_count": 11,
     "metadata": {},
     "output_type": "execute_result"
    }
   ],
   "source": [
    "train = train.drop(['region','type_of_business'], axis=1)\n",
    "train.head()"
   ]
  },
  {
   "cell_type": "markdown",
   "metadata": {},
   "source": [
    "### (2) 이상치"
   ]
  },
  {
   "cell_type": "markdown",
   "metadata": {},
   "source": [
    "#### 매출액(amount) 변수에 대한 이상치 존재 확인"
   ]
  },
  {
   "cell_type": "code",
   "execution_count": 12,
   "metadata": {},
   "outputs": [
    {
     "data": {
      "text/plain": [
       "<matplotlib.axes._subplots.AxesSubplot at 0x1f8dcf4e2b0>"
      ]
     },
     "execution_count": 12,
     "metadata": {},
     "output_type": "execute_result"
    },
    {
     "data": {
      "image/png": "[encoded data removed]",
      "text/plain": [
       "<Figure size 576x288 with 1 Axes>"
      ]
     },
     "metadata": {
      "needs_background": "light"
     },
     "output_type": "display_data"
    }
   ],
   "source": [
    "plt.figure(figsize=(8, 4))\n",
    "sns.boxplot(train['amount'])"
   ]
  },
  {
   "cell_type": "markdown",
   "metadata": {},
   "source": [
    "* 매출액 변수에 음수(=환불액) 존재"
   ]
  },
  {
   "cell_type": "markdown",
   "metadata": {},
   "source": [
    "#### 환불 발생 현황 확인"
   ]
  },
  {
   "cell_type": "code",
   "execution_count": 13,
   "metadata": {},
   "outputs": [
    {
     "data": {
      "text/html": [
       "<div>\n",
       "<style scoped>\n",
       "    .dataframe tbody tr th:only-of-type {\n",
       "        vertical-align: middle;\n",
       "    }\n",
       "\n",
       "    .dataframe tbody tr th {\n",
       "        vertical-align: top;\n",
       "    }\n",
       "\n",
       "    .dataframe thead th {\n",
       "        text-align: right;\n",
       "    }\n",
       "</style>\n",
       "<table border=\"1\" class=\"dataframe\">\n",
       "  <thead>\n",
       "    <tr style=\"text-align: right;\">\n",
       "      <th></th>\n",
       "      <th>store_id</th>\n",
       "      <th>card_id</th>\n",
       "      <th>card_company</th>\n",
       "      <th>transacted_date</th>\n",
       "      <th>transacted_time</th>\n",
       "      <th>installment_term</th>\n",
       "      <th>amount</th>\n",
       "    </tr>\n",
       "  </thead>\n",
       "  <tbody>\n",
       "    <tr>\n",
       "      <th>41</th>\n",
       "      <td>0</td>\n",
       "      <td>40</td>\n",
       "      <td>a</td>\n",
       "      <td>2016-06-10</td>\n",
       "      <td>17:26</td>\n",
       "      <td>2</td>\n",
       "      <td>-8571.428571</td>\n",
       "    </tr>\n",
       "    <tr>\n",
       "      <th>347</th>\n",
       "      <td>0</td>\n",
       "      <td>285</td>\n",
       "      <td>a</td>\n",
       "      <td>2016-08-04</td>\n",
       "      <td>17:52</td>\n",
       "      <td>0</td>\n",
       "      <td>-1857.142857</td>\n",
       "    </tr>\n",
       "    <tr>\n",
       "      <th>731</th>\n",
       "      <td>0</td>\n",
       "      <td>473</td>\n",
       "      <td>g</td>\n",
       "      <td>2016-10-17</td>\n",
       "      <td>10:32</td>\n",
       "      <td>0</td>\n",
       "      <td>-2000.000000</td>\n",
       "    </tr>\n",
       "    <tr>\n",
       "      <th>831</th>\n",
       "      <td>0</td>\n",
       "      <td>230</td>\n",
       "      <td>b</td>\n",
       "      <td>2016-11-03</td>\n",
       "      <td>15:36</td>\n",
       "      <td>0</td>\n",
       "      <td>-85.714286</td>\n",
       "    </tr>\n",
       "    <tr>\n",
       "      <th>944</th>\n",
       "      <td>0</td>\n",
       "      <td>138</td>\n",
       "      <td>a</td>\n",
       "      <td>2016-11-28</td>\n",
       "      <td>13:21</td>\n",
       "      <td>0</td>\n",
       "      <td>-57.142857</td>\n",
       "    </tr>\n",
       "  </tbody>\n",
       "</table>\n",
       "</div>"
      ],
      "text/plain": [
       "     store_id  card_id card_company transacted_date transacted_time  \\\n",
       "41          0       40            a      2016-06-10           17:26   \n",
       "347         0      285            a      2016-08-04           17:52   \n",
       "731         0      473            g      2016-10-17           10:32   \n",
       "831         0      230            b      2016-11-03           15:36   \n",
       "944         0      138            a      2016-11-28           13:21   \n",
       "\n",
       "     installment_term       amount  \n",
       "41                  2 -8571.428571  \n",
       "347                 0 -1857.142857  \n",
       "731                 0 -2000.000000  \n",
       "831                 0   -85.714286  \n",
       "944                 0   -57.142857  "
      ]
     },
     "execution_count": 13,
     "metadata": {},
     "output_type": "execute_result"
    }
   ],
   "source": [
    "train[train['amount']<0].head()"
   ]
  },
  {
   "cell_type": "markdown",
   "metadata": {},
   "source": [
    "* 매출액이 0 미만인 행 출력\n",
    "* 상점 매출액 예측에 방해됨 => 제거"
   ]
  },
  {
   "cell_type": "markdown",
   "metadata": {},
   "source": [
    "#### 제거기준"
   ]
  },
  {
   "cell_type": "markdown",
   "metadata": {},
   "source": [
    "* 환불 발생 이전의 거래 내역 중 음수 매출액(환불) 의 절댓값과 같은 행은 제거\n",
    "  - (1) 환불 발생일(transacted_date)과 환불 발생시간(transacted_time) 이전 데이터 중에서\n",
    "  - (2) 카드 아이디(card_id)가 같고\n",
    "  - (3) 음수 매출액(amount)의 절댓값과 양수 매출액이 같은 거래 중\n",
    "  - (4) 최근 거래를 찾아서 해당 인덱스 제거!\n",
    "  \n",
    "\n",
    "* 즉, 환불된 상품의 구매했을 때의 거래내역까지 모두 삭제\n",
    "* 환불값만 삭제하면 구매한 것으로 집계되므로 과대계상 방지"
   ]
  },
  {
   "cell_type": "markdown",
   "metadata": {},
   "source": [
    "#### 거래일과 거래시간을 합친 datetime 변수 만들기"
   ]
  },
  {
   "cell_type": "code",
   "execution_count": 14,
   "metadata": {},
   "outputs": [],
   "source": [
    "train['datetime'] = pd.to_datetime(train.transacted_date + \" \" + train.transacted_time, format='%Y-%m-%d %H:%M:%S')"
   ]
  },
  {
   "cell_type": "markdown",
   "metadata": {},
   "source": [
    "#### 환불거래를 제거하는 함수를 정의"
   ]
  },
  {
   "cell_type": "code",
   "execution_count": 15,
   "metadata": {},
   "outputs": [],
   "source": [
    "def remove_refund(df):\n",
    "    refund = df[df['amount']<0]\n",
    "    non_refund = df[df['amount']>0]\n",
    "    removed_data = pd.DataFrame()\n",
    "    \n",
    "    for i in tqdm(df.store_id.unique()):\n",
    "        divided_data = non_refund[non_refund['store_id']==i]\n",
    "        divided_data2 = refund[refund['store_id']==i]\n",
    "        \n",
    "        for neg in divided_data2.to_records()[:]:\n",
    "            refund_store = neg['store_id']\n",
    "            refund_id = neg['card_id']\n",
    "            refund_datetime = neg['datetime']\n",
    "            refund_amount = abs(neg['amount'])\n",
    "                \n",
    "            refund_pay_list = divided_data[divided_data['datetime']<=refund_datetime]\n",
    "            refund_pay_list = refund_pay_list[refund_pay_list['card_id']==refund_id]\n",
    "            refund_pay_list = refund_pay_list[refund_pay_list['amount']==refund_amount]\n",
    "                \n",
    "            if len(refund_pay_list)!=0:\n",
    "                refund_datetime = max(refund_pay_list['datetime'])\n",
    "                noise_list = divided_data[divided_data['datetime']==refund_datetime]\n",
    "                noise_list = noise_list[noise_list['card_id']== refund_id]\n",
    "                noise_list = noise_list[noise_list['amount']==refund_amount]\n",
    "                divided_data = divided_data.drop(index=noise_list.index)\n",
    "                    \n",
    "        removed_data = pd.concat([removed_data,divided_data],axis=0)\n",
    "    \n",
    "    return removed_data"
   ]
  },
  {
   "cell_type": "markdown",
   "metadata": {},
   "source": [
    "#### 환불거래 제거함수 적용"
   ]
  },
  {
   "cell_type": "code",
   "execution_count": 16,
   "metadata": {},
   "outputs": [
    {
     "name": "stderr",
     "output_type": "stream",
     "text": [
      "100%|██████████████████████████████████████████████████████████████████████████████| 1967/1967 [55:34<00:00,  1.70s/it]\n"
     ]
    }
   ],
   "source": [
    "positive_data = remove_refund(train)"
   ]
  },
  {
   "cell_type": "code",
   "execution_count": 17,
   "metadata": {},
   "outputs": [
    {
     "data": {
      "text/html": [
       "<div>\n",
       "<style scoped>\n",
       "    .dataframe tbody tr th:only-of-type {\n",
       "        vertical-align: middle;\n",
       "    }\n",
       "\n",
       "    .dataframe tbody tr th {\n",
       "        vertical-align: top;\n",
       "    }\n",
       "\n",
       "    .dataframe thead th {\n",
       "        text-align: right;\n",
       "    }\n",
       "</style>\n",
       "<table border=\"1\" class=\"dataframe\">\n",
       "  <thead>\n",
       "    <tr style=\"text-align: right;\">\n",
       "      <th></th>\n",
       "      <th>store_id</th>\n",
       "      <th>card_id</th>\n",
       "      <th>card_company</th>\n",
       "      <th>transacted_date</th>\n",
       "      <th>transacted_time</th>\n",
       "      <th>installment_term</th>\n",
       "      <th>amount</th>\n",
       "      <th>datetime</th>\n",
       "    </tr>\n",
       "  </thead>\n",
       "  <tbody>\n",
       "    <tr>\n",
       "      <th>0</th>\n",
       "      <td>0</td>\n",
       "      <td>0</td>\n",
       "      <td>b</td>\n",
       "      <td>2016-06-01</td>\n",
       "      <td>13:13</td>\n",
       "      <td>0</td>\n",
       "      <td>1857.142857</td>\n",
       "      <td>2016-06-01 13:13:00</td>\n",
       "    </tr>\n",
       "    <tr>\n",
       "      <th>1</th>\n",
       "      <td>0</td>\n",
       "      <td>1</td>\n",
       "      <td>h</td>\n",
       "      <td>2016-06-01</td>\n",
       "      <td>18:12</td>\n",
       "      <td>0</td>\n",
       "      <td>857.142857</td>\n",
       "      <td>2016-06-01 18:12:00</td>\n",
       "    </tr>\n",
       "    <tr>\n",
       "      <th>2</th>\n",
       "      <td>0</td>\n",
       "      <td>2</td>\n",
       "      <td>c</td>\n",
       "      <td>2016-06-01</td>\n",
       "      <td>18:52</td>\n",
       "      <td>0</td>\n",
       "      <td>2000.000000</td>\n",
       "      <td>2016-06-01 18:52:00</td>\n",
       "    </tr>\n",
       "    <tr>\n",
       "      <th>3</th>\n",
       "      <td>0</td>\n",
       "      <td>3</td>\n",
       "      <td>a</td>\n",
       "      <td>2016-06-01</td>\n",
       "      <td>20:22</td>\n",
       "      <td>0</td>\n",
       "      <td>7857.142857</td>\n",
       "      <td>2016-06-01 20:22:00</td>\n",
       "    </tr>\n",
       "    <tr>\n",
       "      <th>4</th>\n",
       "      <td>0</td>\n",
       "      <td>4</td>\n",
       "      <td>c</td>\n",
       "      <td>2016-06-02</td>\n",
       "      <td>11:06</td>\n",
       "      <td>0</td>\n",
       "      <td>2000.000000</td>\n",
       "      <td>2016-06-02 11:06:00</td>\n",
       "    </tr>\n",
       "    <tr>\n",
       "      <th>...</th>\n",
       "      <td>...</td>\n",
       "      <td>...</td>\n",
       "      <td>...</td>\n",
       "      <td>...</td>\n",
       "      <td>...</td>\n",
       "      <td>...</td>\n",
       "      <td>...</td>\n",
       "      <td>...</td>\n",
       "    </tr>\n",
       "    <tr>\n",
       "      <th>6556606</th>\n",
       "      <td>2136</td>\n",
       "      <td>4663854</td>\n",
       "      <td>f</td>\n",
       "      <td>2019-02-28</td>\n",
       "      <td>23:03</td>\n",
       "      <td>0</td>\n",
       "      <td>3928.571429</td>\n",
       "      <td>2019-02-28 23:03:00</td>\n",
       "    </tr>\n",
       "    <tr>\n",
       "      <th>6556609</th>\n",
       "      <td>2136</td>\n",
       "      <td>4663855</td>\n",
       "      <td>d</td>\n",
       "      <td>2019-02-28</td>\n",
       "      <td>23:24</td>\n",
       "      <td>0</td>\n",
       "      <td>4142.857143</td>\n",
       "      <td>2019-02-28 23:24:00</td>\n",
       "    </tr>\n",
       "    <tr>\n",
       "      <th>6556610</th>\n",
       "      <td>2136</td>\n",
       "      <td>4663489</td>\n",
       "      <td>a</td>\n",
       "      <td>2019-02-28</td>\n",
       "      <td>23:24</td>\n",
       "      <td>0</td>\n",
       "      <td>4500.000000</td>\n",
       "      <td>2019-02-28 23:24:00</td>\n",
       "    </tr>\n",
       "    <tr>\n",
       "      <th>6556611</th>\n",
       "      <td>2136</td>\n",
       "      <td>4663856</td>\n",
       "      <td>d</td>\n",
       "      <td>2019-02-28</td>\n",
       "      <td>23:27</td>\n",
       "      <td>0</td>\n",
       "      <td>571.428571</td>\n",
       "      <td>2019-02-28 23:27:00</td>\n",
       "    </tr>\n",
       "    <tr>\n",
       "      <th>6556612</th>\n",
       "      <td>2136</td>\n",
       "      <td>4658616</td>\n",
       "      <td>c</td>\n",
       "      <td>2019-02-28</td>\n",
       "      <td>23:54</td>\n",
       "      <td>0</td>\n",
       "      <td>5857.142857</td>\n",
       "      <td>2019-02-28 23:54:00</td>\n",
       "    </tr>\n",
       "  </tbody>\n",
       "</table>\n",
       "<p>6406073 rows × 8 columns</p>\n",
       "</div>"
      ],
      "text/plain": [
       "         store_id  card_id card_company transacted_date transacted_time  \\\n",
       "0               0        0            b      2016-06-01           13:13   \n",
       "1               0        1            h      2016-06-01           18:12   \n",
       "2               0        2            c      2016-06-01           18:52   \n",
       "3               0        3            a      2016-06-01           20:22   \n",
       "4               0        4            c      2016-06-02           11:06   \n",
       "...           ...      ...          ...             ...             ...   \n",
       "6556606      2136  4663854            f      2019-02-28           23:03   \n",
       "6556609      2136  4663855            d      2019-02-28           23:24   \n",
       "6556610      2136  4663489            a      2019-02-28           23:24   \n",
       "6556611      2136  4663856            d      2019-02-28           23:27   \n",
       "6556612      2136  4658616            c      2019-02-28           23:54   \n",
       "\n",
       "         installment_term       amount            datetime  \n",
       "0                       0  1857.142857 2016-06-01 13:13:00  \n",
       "1                       0   857.142857 2016-06-01 18:12:00  \n",
       "2                       0  2000.000000 2016-06-01 18:52:00  \n",
       "3                       0  7857.142857 2016-06-01 20:22:00  \n",
       "4                       0  2000.000000 2016-06-02 11:06:00  \n",
       "...                   ...          ...                 ...  \n",
       "6556606                 0  3928.571429 2019-02-28 23:03:00  \n",
       "6556609                 0  4142.857143 2019-02-28 23:24:00  \n",
       "6556610                 0  4500.000000 2019-02-28 23:24:00  \n",
       "6556611                 0   571.428571 2019-02-28 23:27:00  \n",
       "6556612                 0  5857.142857 2019-02-28 23:54:00  \n",
       "\n",
       "[6406073 rows x 8 columns]"
      ]
     },
     "execution_count": 17,
     "metadata": {},
     "output_type": "execute_result"
    }
   ],
   "source": [
    "positive_data"
   ]
  },
  {
   "cell_type": "markdown",
   "metadata": {},
   "source": [
    "## 4.2.2 다운 샘플링"
   ]
  },
  {
   "cell_type": "markdown",
   "metadata": {},
   "source": [
    "* 다운 샘플링: 시계열 데이터에서 시간 간격을 넓게 재조정해 데이터 샘플 수를 줄이는 것\n",
    "* 다운 샘플링 과정을 통해 샘플 수를 줄이고 예측구간을 작게 해서 불확실성을 줄이자!"
   ]
  },
  {
   "cell_type": "code",
   "execution_count": 18,
   "metadata": {},
   "outputs": [
    {
     "data": {
      "text/plain": [
       "<matplotlib.axes._subplots.AxesSubplot at 0x1f8b06da940>"
      ]
     },
     "execution_count": 18,
     "metadata": {},
     "output_type": "execute_result"
    },
    {
     "data": {
      "image/png": "[encoded data removed]",
      "text/plain": [
       "<Figure size 576x288 with 1 Axes>"
      ]
     },
     "metadata": {
      "needs_background": "light"
     },
     "output_type": "display_data"
    }
   ],
   "source": [
    "plt.figure(figsize=(8, 4))\n",
    "sns.boxplot(positive_data['amount'])"
   ]
  },
  {
   "cell_type": "markdown",
   "metadata": {},
   "source": [
    "### (1) 데이터의 시간 간격을 확인"
   ]
  },
  {
   "cell_type": "code",
   "execution_count": 19,
   "metadata": {},
   "outputs": [
    {
     "data": {
      "text/html": [
       "<div>\n",
       "<style scoped>\n",
       "    .dataframe tbody tr th:only-of-type {\n",
       "        vertical-align: middle;\n",
       "    }\n",
       "\n",
       "    .dataframe tbody tr th {\n",
       "        vertical-align: top;\n",
       "    }\n",
       "\n",
       "    .dataframe thead th {\n",
       "        text-align: right;\n",
       "    }\n",
       "</style>\n",
       "<table border=\"1\" class=\"dataframe\">\n",
       "  <thead>\n",
       "    <tr style=\"text-align: right;\">\n",
       "      <th></th>\n",
       "      <th>store_id</th>\n",
       "      <th>card_id</th>\n",
       "      <th>card_company</th>\n",
       "      <th>transacted_date</th>\n",
       "      <th>transacted_time</th>\n",
       "      <th>installment_term</th>\n",
       "      <th>amount</th>\n",
       "      <th>datetime</th>\n",
       "    </tr>\n",
       "  </thead>\n",
       "  <tbody>\n",
       "    <tr>\n",
       "      <th>0</th>\n",
       "      <td>0</td>\n",
       "      <td>0</td>\n",
       "      <td>b</td>\n",
       "      <td>2016-06-01</td>\n",
       "      <td>13:13</td>\n",
       "      <td>0</td>\n",
       "      <td>1857.142857</td>\n",
       "      <td>2016-06-01 13:13:00</td>\n",
       "    </tr>\n",
       "    <tr>\n",
       "      <th>1</th>\n",
       "      <td>0</td>\n",
       "      <td>1</td>\n",
       "      <td>h</td>\n",
       "      <td>2016-06-01</td>\n",
       "      <td>18:12</td>\n",
       "      <td>0</td>\n",
       "      <td>857.142857</td>\n",
       "      <td>2016-06-01 18:12:00</td>\n",
       "    </tr>\n",
       "    <tr>\n",
       "      <th>2</th>\n",
       "      <td>0</td>\n",
       "      <td>2</td>\n",
       "      <td>c</td>\n",
       "      <td>2016-06-01</td>\n",
       "      <td>18:52</td>\n",
       "      <td>0</td>\n",
       "      <td>2000.000000</td>\n",
       "      <td>2016-06-01 18:52:00</td>\n",
       "    </tr>\n",
       "    <tr>\n",
       "      <th>3</th>\n",
       "      <td>0</td>\n",
       "      <td>3</td>\n",
       "      <td>a</td>\n",
       "      <td>2016-06-01</td>\n",
       "      <td>20:22</td>\n",
       "      <td>0</td>\n",
       "      <td>7857.142857</td>\n",
       "      <td>2016-06-01 20:22:00</td>\n",
       "    </tr>\n",
       "    <tr>\n",
       "      <th>4</th>\n",
       "      <td>0</td>\n",
       "      <td>4</td>\n",
       "      <td>c</td>\n",
       "      <td>2016-06-02</td>\n",
       "      <td>11:06</td>\n",
       "      <td>0</td>\n",
       "      <td>2000.000000</td>\n",
       "      <td>2016-06-02 11:06:00</td>\n",
       "    </tr>\n",
       "  </tbody>\n",
       "</table>\n",
       "</div>"
      ],
      "text/plain": [
       "   store_id  card_id card_company transacted_date transacted_time  \\\n",
       "0         0        0            b      2016-06-01           13:13   \n",
       "1         0        1            h      2016-06-01           18:12   \n",
       "2         0        2            c      2016-06-01           18:52   \n",
       "3         0        3            a      2016-06-01           20:22   \n",
       "4         0        4            c      2016-06-02           11:06   \n",
       "\n",
       "   installment_term       amount            datetime  \n",
       "0                 0  1857.142857 2016-06-01 13:13:00  \n",
       "1                 0   857.142857 2016-06-01 18:12:00  \n",
       "2                 0  2000.000000 2016-06-01 18:52:00  \n",
       "3                 0  7857.142857 2016-06-01 20:22:00  \n",
       "4                 0  2000.000000 2016-06-02 11:06:00  "
      ]
     },
     "execution_count": 19,
     "metadata": {},
     "output_type": "execute_result"
    }
   ],
   "source": [
    "positive_data.head()"
   ]
  },
  {
   "cell_type": "markdown",
   "metadata": {},
   "source": [
    "* 거래 시간(datetime) 기준, '분 단위'로 기록\n",
    "\n",
    "* 시간 간격을 재조정해 예측 구간 최소화 => '월 단위'로 재조정"
   ]
  },
  {
   "cell_type": "markdown",
   "metadata": {},
   "source": [
    "#### 월 단위 다운 샘플링 함수"
   ]
  },
  {
   "cell_type": "code",
   "execution_count": 20,
   "metadata": {},
   "outputs": [],
   "source": [
    "def month_resampling(df):\n",
    "    new_data = pd.DataFrame()\n",
    "    \n",
    "    df['year_month'] = df['transacted_date'].str.slice(stop=7)\n",
    "    year_month = df['year_month'].drop_duplicates() # 전체기간을 추출합니다.\n",
    "    \n",
    "    downsampling_data = df.groupby(['store_id', 'year_month']).amount.sum()\n",
    "    downsampling_data = pd.DataFrame(downsampling_data)\n",
    "    downsampling_data = downsampling_data.reset_index(drop=False, inplace=False)\n",
    "    \n",
    "    for i in tqdm(df.store_id.unique()):\n",
    "        store = downsampling_data[downsampling_data['store_id']==i]\n",
    "        start_time = min(store['year_month'])\n",
    "        store = store.merge(year_month, how='outer')\n",
    "        store = store.sort_values(by=['year_month'], axis=0, ascending=True)\n",
    "        store['amount'] = store['amount'].fillna(2)\n",
    "        store['store_id'] = store['store_id'].fillna(i)\n",
    "        store = store[store['year_month']>=start_time]\n",
    "        \n",
    "        new_data = pd.concat([new_data, store], axis=0)\n",
    "        \n",
    "    return new_data"
   ]
  },
  {
   "cell_type": "markdown",
   "metadata": {},
   "source": [
    "#### 월 단위 다운 샘풀링 함수 적용"
   ]
  },
  {
   "cell_type": "code",
   "execution_count": 21,
   "metadata": {},
   "outputs": [
    {
     "name": "stderr",
     "output_type": "stream",
     "text": [
      "100%|██████████████████████████████████████████████████████████████████████████████| 1967/1967 [00:54<00:00, 36.07it/s]\n"
     ]
    },
    {
     "data": {
      "text/html": [
       "<div>\n",
       "<style scoped>\n",
       "    .dataframe tbody tr th:only-of-type {\n",
       "        vertical-align: middle;\n",
       "    }\n",
       "\n",
       "    .dataframe tbody tr th {\n",
       "        vertical-align: top;\n",
       "    }\n",
       "\n",
       "    .dataframe thead th {\n",
       "        text-align: right;\n",
       "    }\n",
       "</style>\n",
       "<table border=\"1\" class=\"dataframe\">\n",
       "  <thead>\n",
       "    <tr style=\"text-align: right;\">\n",
       "      <th></th>\n",
       "      <th>store_id</th>\n",
       "      <th>year_month</th>\n",
       "      <th>amount</th>\n",
       "    </tr>\n",
       "  </thead>\n",
       "  <tbody>\n",
       "    <tr>\n",
       "      <th>0</th>\n",
       "      <td>0</td>\n",
       "      <td>2016-06</td>\n",
       "      <td>7.470000e+05</td>\n",
       "    </tr>\n",
       "    <tr>\n",
       "      <th>1</th>\n",
       "      <td>0</td>\n",
       "      <td>2016-07</td>\n",
       "      <td>1.005000e+06</td>\n",
       "    </tr>\n",
       "    <tr>\n",
       "      <th>2</th>\n",
       "      <td>0</td>\n",
       "      <td>2016-08</td>\n",
       "      <td>8.697143e+05</td>\n",
       "    </tr>\n",
       "    <tr>\n",
       "      <th>3</th>\n",
       "      <td>0</td>\n",
       "      <td>2016-09</td>\n",
       "      <td>8.978571e+05</td>\n",
       "    </tr>\n",
       "    <tr>\n",
       "      <th>4</th>\n",
       "      <td>0</td>\n",
       "      <td>2016-10</td>\n",
       "      <td>8.354286e+05</td>\n",
       "    </tr>\n",
       "    <tr>\n",
       "      <th>...</th>\n",
       "      <td>...</td>\n",
       "      <td>...</td>\n",
       "      <td>...</td>\n",
       "    </tr>\n",
       "    <tr>\n",
       "      <th>17</th>\n",
       "      <td>2136</td>\n",
       "      <td>2018-10</td>\n",
       "      <td>2.012214e+06</td>\n",
       "    </tr>\n",
       "    <tr>\n",
       "      <th>18</th>\n",
       "      <td>2136</td>\n",
       "      <td>2018-11</td>\n",
       "      <td>2.127643e+06</td>\n",
       "    </tr>\n",
       "    <tr>\n",
       "      <th>19</th>\n",
       "      <td>2136</td>\n",
       "      <td>2018-12</td>\n",
       "      <td>2.427429e+06</td>\n",
       "    </tr>\n",
       "    <tr>\n",
       "      <th>20</th>\n",
       "      <td>2136</td>\n",
       "      <td>2019-01</td>\n",
       "      <td>1.867786e+06</td>\n",
       "    </tr>\n",
       "    <tr>\n",
       "      <th>21</th>\n",
       "      <td>2136</td>\n",
       "      <td>2019-02</td>\n",
       "      <td>2.227429e+06</td>\n",
       "    </tr>\n",
       "  </tbody>\n",
       "</table>\n",
       "<p>60982 rows × 3 columns</p>\n",
       "</div>"
      ],
      "text/plain": [
       "    store_id year_month        amount\n",
       "0          0    2016-06  7.470000e+05\n",
       "1          0    2016-07  1.005000e+06\n",
       "2          0    2016-08  8.697143e+05\n",
       "3          0    2016-09  8.978571e+05\n",
       "4          0    2016-10  8.354286e+05\n",
       "..       ...        ...           ...\n",
       "17      2136    2018-10  2.012214e+06\n",
       "18      2136    2018-11  2.127643e+06\n",
       "19      2136    2018-12  2.427429e+06\n",
       "20      2136    2019-01  1.867786e+06\n",
       "21      2136    2019-02  2.227429e+06\n",
       "\n",
       "[60982 rows x 3 columns]"
      ]
     },
     "execution_count": 21,
     "metadata": {},
     "output_type": "execute_result"
    }
   ],
   "source": [
    "resampling_data = month_resampling(positive_data)\n",
    "resampling_data['store_id'] = resampling_data['store_id'].astype(int)\n",
    "resampling_data"
   ]
  },
  {
   "cell_type": "markdown",
   "metadata": {},
   "source": [
    "## 4.2.3 날짜 지정 범위 생성과 시리즈 객체 변환"
   ]
  },
  {
   "cell_type": "markdown",
   "metadata": {},
   "source": [
    "* 이유: 시계열 데이터의 정상성 확인을 위해서 '단위근 검정'과 '시계열 모델 구축' 과정에서 시리즈 객체 사용하기 위해"
   ]
  },
  {
   "cell_type": "markdown",
   "metadata": {},
   "source": [
    "### (1) 데이터 타입 확인"
   ]
  },
  {
   "cell_type": "code",
   "execution_count": 22,
   "metadata": {},
   "outputs": [
    {
     "name": "stdout",
     "output_type": "stream",
     "text": [
      "<class 'pandas.core.frame.DataFrame'>\n"
     ]
    }
   ],
   "source": [
    "print(type(resampling_data))"
   ]
  },
  {
   "cell_type": "markdown",
   "metadata": {},
   "source": [
    "### (2) 인덱스를 시간 변수로 정의 & 시리즈 객체로 변환"
   ]
  },
  {
   "cell_type": "markdown",
   "metadata": {},
   "source": [
    "#### 시리즈 객체 변환 함수 정의"
   ]
  },
  {
   "cell_type": "code",
   "execution_count": 23,
   "metadata": {},
   "outputs": [],
   "source": [
    "def time_series(df, i):\n",
    "    store = df[df['store_id']==i]\n",
    "    index = pd.date_range(min(store['year_month']),'2019-03',freq='BM') ##영업 시작일부터 2019년 2월까지 데이터가 존제\n",
    "    \n",
    "    ts=pd.Series(store['amount'].values,index=index)\n",
    "    \n",
    "    return ts"
   ]
  },
  {
   "cell_type": "markdown",
   "metadata": {},
   "source": [
    "#### 각 상점별로 시리즈 객체로 변환 "
   ]
  },
  {
   "cell_type": "code",
   "execution_count": 24,
   "metadata": {},
   "outputs": [
    {
     "data": {
      "text/plain": [
       "2016-06-30    7.470000e+05\n",
       "2016-07-29    1.005000e+06\n",
       "2016-08-31    8.697143e+05\n",
       "2016-09-30    8.978571e+05\n",
       "2016-10-31    8.354286e+05\n",
       "2016-11-30    6.970000e+05\n",
       "2016-12-30    7.618571e+05\n",
       "2017-01-31    5.856429e+05\n",
       "2017-02-28    7.940000e+05\n",
       "2017-03-31    7.202571e+05\n",
       "2017-04-28    6.852857e+05\n",
       "2017-05-31    7.444286e+05\n",
       "2017-06-30    6.820000e+05\n",
       "2017-07-31    7.282857e+05\n",
       "2017-08-31    7.490000e+05\n",
       "2017-09-29    8.408571e+05\n",
       "2017-10-31    6.005714e+05\n",
       "2017-11-30    6.308571e+05\n",
       "2017-12-29    8.127143e+05\n",
       "2018-01-31    6.431429e+05\n",
       "2018-02-28    6.852857e+05\n",
       "2018-03-30    8.484286e+05\n",
       "2018-04-30    6.361429e+05\n",
       "2018-05-31    6.864286e+05\n",
       "2018-06-29    7.072857e+05\n",
       "2018-07-31    7.587143e+05\n",
       "2018-08-31    6.798571e+05\n",
       "2018-09-28    6.518571e+05\n",
       "2018-10-31    7.390000e+05\n",
       "2018-11-30    6.760000e+05\n",
       "2018-12-31    8.745714e+05\n",
       "2019-01-31    6.828571e+05\n",
       "2019-02-28    5.152857e+05\n",
       "Freq: BM, dtype: float64"
      ]
     },
     "execution_count": 24,
     "metadata": {},
     "output_type": "execute_result"
    }
   ],
   "source": [
    "# 상점 아이디 0번\n",
    "store_0 = time_series(resampling_data, 0)\n",
    "store_0"
   ]
  },
  {
   "cell_type": "markdown",
   "metadata": {},
   "source": [
    "#### 데이터 타입 확인"
   ]
  },
  {
   "cell_type": "code",
   "execution_count": 25,
   "metadata": {},
   "outputs": [
    {
     "name": "stdout",
     "output_type": "stream",
     "text": [
      "<class 'pandas.core.series.Series'>\n"
     ]
    }
   ],
   "source": [
    "# 상점 아이디 1번\n",
    "store_1 = time_series(resampling_data, 1)\n",
    "print(type(store_1))"
   ]
  },
  {
   "cell_type": "markdown",
   "metadata": {},
   "source": [
    "#### 시계열 그래프"
   ]
  },
  {
   "cell_type": "code",
   "execution_count": 26,
   "metadata": {},
   "outputs": [
    {
     "data": {
      "text/plain": [
       "<matplotlib.axes._subplots.AxesSubplot at 0x1f89a90feb8>"
      ]
     },
     "execution_count": 26,
     "metadata": {},
     "output_type": "execute_result"
    },
    {
     "data": {
      "image/png": "[encoded data removed]",
      "text/plain": [
       "<Figure size 432x288 with 1 Axes>"
      ]
     },
     "metadata": {
      "needs_background": "light"
     },
     "output_type": "display_data"
    }
   ],
   "source": [
    "# 상점 아이디 2번\n",
    "store_2 = time_series(resampling_data,2)\n",
    "store_2.plot()"
   ]
  },
  {
   "cell_type": "markdown",
   "metadata": {},
   "source": [
    "# 4.3 탐색적 데이터 분석"
   ]
  },
  {
   "cell_type": "markdown",
   "metadata": {},
   "source": [
    "* (1) 상점별 매출액 시계열 그래프를 통해 매출 특성을 파악\n",
    "* (2) 시계열 데이터의 평균과 분산이 안정적인지 확인하기 위한 'ADF-TEST'\n",
    "* (3) 시계열 데이터가 정상시계열인지 확인!"
   ]
  },
  {
   "cell_type": "markdown",
   "metadata": {},
   "source": [
    "## 4.3.1 상점별 매출 특정"
   ]
  },
  {
   "cell_type": "markdown",
   "metadata": {},
   "source": [
    "### 계절성이 있는 상점"
   ]
  },
  {
   "cell_type": "code",
   "execution_count": 27,
   "metadata": {},
   "outputs": [
    {
     "data": {
      "text/plain": [
       "2016-06-30    4.891857e+05\n",
       "2016-07-29    1.595280e+06\n",
       "2016-08-31    1.518714e+06\n",
       "2016-09-30    3.369143e+05\n",
       "2016-10-31    4.245714e+05\n",
       "2016-11-30    2.000000e+00\n",
       "2016-12-30    2.000000e+00\n",
       "2017-01-31    2.000000e+00\n",
       "2017-02-28    2.000000e+00\n",
       "2017-03-31    2.000000e+00\n",
       "2017-04-28    3.928571e+04\n",
       "2017-05-31    1.557286e+05\n",
       "2017-06-30    5.481143e+05\n",
       "2017-07-31    7.359286e+05\n",
       "2017-08-31    7.909700e+05\n",
       "2017-09-29    6.191429e+04\n",
       "2017-10-31    1.027143e+06\n",
       "2017-11-30    2.000000e+00\n",
       "2017-12-29    2.000000e+00\n",
       "2018-01-31    2.000000e+00\n",
       "2018-02-28    2.000000e+00\n",
       "2018-03-30    2.000000e+00\n",
       "2018-04-30    2.000000e+00\n",
       "2018-05-31    2.493857e+05\n",
       "2018-06-29    4.822286e+05\n",
       "2018-07-31    8.999714e+05\n",
       "2018-08-31    1.645877e+06\n",
       "2018-09-28    2.767857e+05\n",
       "2018-10-31    2.000000e+00\n",
       "2018-11-30    2.000000e+00\n",
       "2018-12-31    2.000000e+00\n",
       "2019-01-31    2.000000e+00\n",
       "2019-02-28    2.000000e+00\n",
       "Freq: BM, dtype: float64"
      ]
     },
     "execution_count": 27,
     "metadata": {},
     "output_type": "execute_result"
    }
   ],
   "source": [
    "store_257 = time_series(resampling_data, 257)\n",
    "store_257"
   ]
  },
  {
   "cell_type": "code",
   "execution_count": 28,
   "metadata": {},
   "outputs": [
    {
     "data": {
      "image/png": "[encoded data removed]",
      "text/plain": [
       "<Figure size 972x360 with 1 Axes>"
      ]
     },
     "metadata": {
      "needs_background": "light"
     },
     "output_type": "display_data"
    }
   ],
   "source": [
    "store_plot_257 = store_257.plot()\n",
    "fig =store_plot_257.get_figure()\n",
    "fig.set_size_inches(13.5, 5)"
   ]
  },
  {
   "cell_type": "code",
   "execution_count": 29,
   "metadata": {},
   "outputs": [
    {
     "data": {
      "text/plain": [
       "2016-07-29    5.075429e+04\n",
       "2016-08-31    9.219543e+05\n",
       "2016-09-30    4.720786e+05\n",
       "2016-10-31    5.145714e+05\n",
       "2016-11-30    1.494286e+05\n",
       "2016-12-30    1.071686e+06\n",
       "2017-01-31    1.602857e+06\n",
       "2017-02-28    1.332143e+06\n",
       "2017-03-31    2.432143e+05\n",
       "2017-04-28    3.903143e+06\n",
       "2017-05-31    1.729500e+06\n",
       "2017-06-30    4.280214e+06\n",
       "2017-07-31    1.775714e+06\n",
       "2017-08-31    7.428571e+05\n",
       "2017-09-29    1.415714e+06\n",
       "2017-10-31    1.180714e+06\n",
       "2017-11-30    4.640000e+05\n",
       "2017-12-29    1.389729e+06\n",
       "2018-01-31    2.000000e+00\n",
       "2018-02-28    8.285714e+05\n",
       "2018-03-30    7.857143e+05\n",
       "2018-04-30    6.670429e+06\n",
       "2018-05-31    1.837286e+05\n",
       "2018-06-29    3.285714e+06\n",
       "2018-07-31    9.502857e+05\n",
       "2018-08-31    3.675200e+06\n",
       "2018-09-28    1.793886e+06\n",
       "2018-10-31    4.717743e+06\n",
       "2018-11-30    7.593600e+06\n",
       "2018-12-31    1.428571e+06\n",
       "2019-01-31    4.285714e+05\n",
       "2019-02-28    1.428571e+06\n",
       "Freq: BM, dtype: float64"
      ]
     },
     "execution_count": 29,
     "metadata": {},
     "output_type": "execute_result"
    }
   ],
   "source": [
    "store_2096 = time_series(resampling_data, 2096)\n",
    "store_2096"
   ]
  },
  {
   "cell_type": "code",
   "execution_count": 30,
   "metadata": {},
   "outputs": [
    {
     "data": {
      "image/png": "[encoded data removed]",
      "text/plain": [
       "<Figure size 972x360 with 1 Axes>"
      ]
     },
     "metadata": {
      "needs_background": "light"
     },
     "output_type": "display_data"
    }
   ],
   "source": [
    "store_plot_2096 = store_2096.plot()\n",
    "fig = store_plot_2096.get_figure()\n",
    "fig.set_size_inches(13.5, 5)"
   ]
  },
  {
   "cell_type": "markdown",
   "metadata": {},
   "source": [
    "### 추세가 있는 상점"
   ]
  },
  {
   "cell_type": "code",
   "execution_count": 31,
   "metadata": {},
   "outputs": [
    {
     "data": {
      "image/png": "[encoded data removed]",
      "text/plain": [
       "<Figure size 972x360 with 1 Axes>"
      ]
     },
     "metadata": {
      "needs_background": "light"
     },
     "output_type": "display_data"
    }
   ],
   "source": [
    "store_335 = time_series(resampling_data, 335)\n",
    "store_plot_335 = store_335.plot()\n",
    "fig = store_plot_335.get_figure()\n",
    "fig.set_size_inches(13.5, 5)"
   ]
  },
  {
   "cell_type": "code",
   "execution_count": 32,
   "metadata": {},
   "outputs": [
    {
     "data": {
      "image/png": "[encoded data removed]",
      "text/plain": [
       "<Figure size 972x360 with 1 Axes>"
      ]
     },
     "metadata": {
      "needs_background": "light"
     },
     "output_type": "display_data"
    }
   ],
   "source": [
    "store_510 = time_series(resampling_data, 510)\n",
    "store_plot_510 = store_510.plot()\n",
    "fig = store_plot_510.get_figure()\n",
    "fig.set_size_inches(13.5, 5)"
   ]
  },
  {
   "cell_type": "markdown",
   "metadata": {},
   "source": [
    "### 휴업 중인 상점"
   ]
  },
  {
   "cell_type": "code",
   "execution_count": 33,
   "metadata": {},
   "outputs": [
    {
     "data": {
      "text/plain": [
       "2016-06-30    812428.571429\n",
       "2016-07-29    391142.857143\n",
       "2016-08-31     13071.428571\n",
       "2016-09-30    495714.285714\n",
       "2016-10-31    182714.285714\n",
       "2016-11-30    178571.428571\n",
       "2016-12-30     43005.714286\n",
       "2017-01-31         2.000000\n",
       "2017-02-28      5428.571429\n",
       "2017-03-31     24857.142857\n",
       "2017-04-28    108000.000000\n",
       "2017-05-31    459142.857143\n",
       "2017-06-30    137571.428571\n",
       "2017-07-31    216285.714286\n",
       "2017-08-31     77000.000000\n",
       "2017-09-29     78005.714286\n",
       "2017-10-31         2.000000\n",
       "2017-11-30         2.000000\n",
       "2017-12-29         2.000000\n",
       "2018-01-31      1428.571429\n",
       "2018-02-28    309785.714286\n",
       "2018-03-30    259071.428571\n",
       "2018-04-30    225858.571429\n",
       "2018-05-31    105571.428571\n",
       "2018-06-29         2.000000\n",
       "2018-07-31    123285.714286\n",
       "2018-08-31         2.000000\n",
       "2018-09-28     83000.000000\n",
       "2018-10-31         2.000000\n",
       "2018-11-30         2.000000\n",
       "2018-12-31         2.000000\n",
       "2019-01-31         2.000000\n",
       "2019-02-28         2.000000\n",
       "Freq: BM, dtype: float64"
      ]
     },
     "execution_count": 33,
     "metadata": {},
     "output_type": "execute_result"
    }
   ],
   "source": [
    "store_111 =time_series(resampling_data, 111)\n",
    "store_111"
   ]
  },
  {
   "cell_type": "code",
   "execution_count": 34,
   "metadata": {},
   "outputs": [
    {
     "data": {
      "image/png": "[encoded data removed]",
      "text/plain": [
       "<Figure size 972x360 with 1 Axes>"
      ]
     },
     "metadata": {
      "needs_background": "light"
     },
     "output_type": "display_data"
    }
   ],
   "source": [
    "store_plot_111 = store_111.plot()\n",
    "fig = store_plot_111.get_figure()\n",
    "fig.set_size_inches(13.5, 5)"
   ]
  },
  {
   "cell_type": "code",
   "execution_count": 35,
   "metadata": {},
   "outputs": [
    {
     "data": {
      "text/plain": [
       "2016-06-30    4.488571e+05\n",
       "2016-07-29    1.156286e+06\n",
       "2016-08-31    1.372857e+06\n",
       "2016-09-30    3.150000e+05\n",
       "2016-10-31    8.748571e+05\n",
       "2016-11-30    3.128571e+05\n",
       "2016-12-30    5.828571e+05\n",
       "2017-01-31    3.214286e+04\n",
       "2017-02-28    2.000000e+00\n",
       "2017-03-31    4.955714e+05\n",
       "2017-04-28    5.940000e+05\n",
       "2017-05-31    1.041143e+06\n",
       "2017-06-30    8.354286e+05\n",
       "2017-07-31    6.171429e+05\n",
       "2017-08-31    4.284286e+05\n",
       "2017-09-29    1.581258e+06\n",
       "2017-10-31    3.294286e+05\n",
       "2017-11-30    2.241429e+05\n",
       "2017-12-29    2.785714e+05\n",
       "2018-01-31    4.018571e+05\n",
       "2018-02-28    1.282857e+05\n",
       "2018-03-30    2.000000e+00\n",
       "2018-04-30    2.000000e+00\n",
       "2018-05-31    2.000000e+00\n",
       "2018-06-29    2.000000e+00\n",
       "2018-07-31    2.000000e+00\n",
       "2018-08-31    2.000000e+00\n",
       "2018-09-28    2.000000e+00\n",
       "2018-10-31    2.000000e+00\n",
       "2018-11-30    2.101429e+05\n",
       "2018-12-31    2.191571e+05\n",
       "2019-01-31    1.779286e+05\n",
       "2019-02-28    5.157143e+04\n",
       "Freq: BM, dtype: float64"
      ]
     },
     "execution_count": 35,
     "metadata": {},
     "output_type": "execute_result"
    }
   ],
   "source": [
    "store_279 = time_series(resampling_data, 279)\n",
    "store_279"
   ]
  },
  {
   "cell_type": "code",
   "execution_count": 36,
   "metadata": {},
   "outputs": [
    {
     "data": {
      "image/png": "[encoded data removed]",
      "text/plain": [
       "<Figure size 972x360 with 1 Axes>"
      ]
     },
     "metadata": {
      "needs_background": "light"
     },
     "output_type": "display_data"
    }
   ],
   "source": [
    "store_plot_279 = store_279.plot()\n",
    "fig = store_plot_279.get_figure()\n",
    "fig.set_size_inches(13.5, 5)"
   ]
  },
  {
   "cell_type": "markdown",
   "metadata": {},
   "source": [
    "## 4.3.2 시계열 데이터의 정상성"
   ]
  },
  {
   "cell_type": "markdown",
   "metadata": {},
   "source": [
    "### ADF-TEST"
   ]
  },
  {
   "cell_type": "code",
   "execution_count": 37,
   "metadata": {},
   "outputs": [
    {
     "data": {
      "image/png": "[encoded data removed]",
      "text/plain": [
       "<Figure size 972x360 with 1 Axes>"
      ]
     },
     "metadata": {
      "needs_background": "light"
     },
     "output_type": "display_data"
    }
   ],
   "source": [
    "store_0 = time_series(resampling_data, 0)\n",
    "store_plot_0 = store_0.plot()\n",
    "fig = store_plot_0.get_figure()\n",
    "fig.set_size_inches(13.5, 5)"
   ]
  },
  {
   "cell_type": "code",
   "execution_count": 38,
   "metadata": {},
   "outputs": [
    {
     "data": {
      "image/png": "[encoded data removed]",
      "text/plain": [
       "<Figure size 972x360 with 1 Axes>"
      ]
     },
     "metadata": {
      "needs_background": "light"
     },
     "output_type": "display_data"
    }
   ],
   "source": [
    "store_257 = time_series(resampling_data, 257)\n",
    "store_plot_257 = store_257.plot()\n",
    "fig = store_plot_257.get_figure()\n",
    "fig.set_size_inches(13.5, 5)"
   ]
  },
  {
   "cell_type": "code",
   "execution_count": 39,
   "metadata": {},
   "outputs": [
    {
     "name": "stdout",
     "output_type": "stream",
     "text": [
      "pval: 0.022488, should_diff: False\n"
     ]
    }
   ],
   "source": [
    "from pmdarima.arima import ADFTest\n",
    "\n",
    "store_0 = time_series(resampling_data, 0)\n",
    "\n",
    "p_val, should_diff =ADFTest().should_diff(store_0)\n",
    "print('pval: %f, should_diff: %s' %(p_val, should_diff))"
   ]
  },
  {
   "cell_type": "code",
   "execution_count": 40,
   "metadata": {},
   "outputs": [
    {
     "name": "stdout",
     "output_type": "stream",
     "text": [
      "pval: 0.093614, should_diff: True\n"
     ]
    }
   ],
   "source": [
    "store_257 = time_series(resampling_data, 257)\n",
    "\n",
    "p_val, should_diff =ADFTest().should_diff(store_257)\n",
    "print('pval: %f, should_diff: %s' %(p_val, should_diff))"
   ]
  },
  {
   "cell_type": "code",
   "execution_count": 51,
   "metadata": {},
   "outputs": [
    {
     "name": "stderr",
     "output_type": "stream",
     "text": [
      "100%|██████████████████████████████████████████████████████████████████████████████| 1967/1967 [00:26<00:00, 74.76it/s]\n"
     ]
    },
    {
     "data": {
      "text/plain": [
       "<matplotlib.axes._subplots.AxesSubplot at 0x1f8b1c3ad30>"
      ]
     },
     "execution_count": 51,
     "metadata": {},
     "output_type": "execute_result"
    },
    {
     "data": {
      "image/png": "[encoded data removed]",
      "text/plain": [
       "<Figure size 576x288 with 1 Axes>"
      ]
     },
     "metadata": {
      "needs_background": "light"
     },
     "output_type": "display_data"
    }
   ],
   "source": [
    "def adf_test(y):\n",
    "    return ADFTest().should_diff(y)[0]\n",
    "\n",
    "adf_p = [ ]\n",
    "count = 0\n",
    "skipped = [ ]\n",
    "\n",
    "for i in tqdm(resampling_data['store_id'].unique()):\n",
    "    ts = time_series(resampling_data, i)\n",
    "    try: \n",
    "        p_val = adf_test(ts)\n",
    "        if p_val < 0.05:\n",
    "            count += 1\n",
    "        adf_p.append(p_val)\n",
    "    except:\n",
    "        skipped.append(i)\n",
    "        \n",
    "plt.figure(figsize=(8, 4))\n",
    "sns.boxplot(adf_p)"
   ]
  },
  {
   "cell_type": "code",
   "execution_count": 52,
   "metadata": {},
   "outputs": [
    {
     "name": "stdout",
     "output_type": "stream",
     "text": [
      "259\n"
     ]
    }
   ],
   "source": [
    "print(count)"
   ]
  },
  {
   "cell_type": "code",
   "execution_count": 53,
   "metadata": {},
   "outputs": [],
   "source": [
    "if skipped:\n",
    "    print(f\"WarningCount: {len(skipped)}, store_id_list:{skipped}\")"
   ]
  },
  {
   "cell_type": "code",
   "execution_count": 54,
   "metadata": {},
   "outputs": [
    {
     "data": {
      "text/plain": [
       "[]"
      ]
     },
     "execution_count": 54,
     "metadata": {},
     "output_type": "execute_result"
    }
   ],
   "source": [
    "skipped"
   ]
  },
  {
   "cell_type": "markdown",
   "metadata": {},
   "source": [
    "# 4.4 모델 구축과 검증 "
   ]
  },
  {
   "cell_type": "markdown",
   "metadata": {},
   "source": [
    "## 4.4.1 파이썬에서 R 시계열 패키지 forecast를 통한 모델링"
   ]
  },
  {
   "cell_type": "markdown",
   "metadata": {},
   "source": [
    "### a. 자기회귀누적이동평균 모델"
   ]
  },
  {
   "cell_type": "code",
   "execution_count": 55,
   "metadata": {},
   "outputs": [
    {
     "data": {
      "text/plain": [
       "rpy2.rinterface.NULL"
      ]
     },
     "execution_count": 55,
     "metadata": {},
     "output_type": "execute_result"
    }
   ],
   "source": [
    "from rpy2.robjects.packages import importr\n",
    "\n",
    "utils = importr('utils')\n",
    "utils.install_packages('forecast')\n",
    "utils.install_packages('forecastHybtid')"
   ]
  },
  {
   "cell_type": "code",
   "execution_count": 56,
   "metadata": {
    "scrolled": false
   },
   "outputs": [
    {
     "name": "stderr",
     "output_type": "stream",
     "text": [
      "  0%|                                                                                         | 0/1967 [00:00<?, ?it/s]\n"
     ]
    },
    {
     "ename": "AttributeError",
     "evalue": "type object 'DataFrame' has no attribute 'from_items'",
     "output_type": "error",
     "traceback": [
      "\u001b[1;31m---------------------------------------------------------------------------\u001b[0m",
      "\u001b[1;31mAttributeError\u001b[0m                            Traceback (most recent call last)",
      "\u001b[1;32m<ipython-input-56-5957e33c8e4f>\u001b[0m in \u001b[0;36m<module>\u001b[1;34m\u001b[0m\n\u001b[0;32m     31\u001b[0m     \u001b[0mforecast\u001b[0m \u001b[1;33m=\u001b[0m \u001b[0mauto_arima\u001b[0m\u001b[1;33m(\u001b[0m\u001b[0mtrain\u001b[0m\u001b[1;33m)\u001b[0m \u001b[1;31m#모델\u001b[0m\u001b[1;33m\u001b[0m\u001b[1;33m\u001b[0m\u001b[0m\n\u001b[0;32m     32\u001b[0m \u001b[1;33m\u001b[0m\u001b[0m\n\u001b[1;32m---> 33\u001b[1;33m     \u001b[0mfinal_pred\u001b[0m\u001b[1;33m.\u001b[0m\u001b[0mappend\u001b[0m\u001b[1;33m(\u001b[0m\u001b[0mnp\u001b[0m\u001b[1;33m.\u001b[0m\u001b[0msum\u001b[0m\u001b[1;33m(\u001b[0m\u001b[0mpandas2ri\u001b[0m\u001b[1;33m.\u001b[0m\u001b[0mri2py\u001b[0m\u001b[1;33m(\u001b[0m\u001b[0mforecast\u001b[0m\u001b[1;33m)\u001b[0m\u001b[1;33m.\u001b[0m\u001b[0mvalues\u001b[0m\u001b[1;33m)\u001b[0m\u001b[1;33m)\u001b[0m\u001b[1;33m\u001b[0m\u001b[1;33m\u001b[0m\u001b[0m\n\u001b[0m",
      "\u001b[1;32mC:\\ProgramData\\Anaconda3\\lib\\functools.py\u001b[0m in \u001b[0;36mwrapper\u001b[1;34m(*args, **kw)\u001b[0m\n\u001b[0;32m    822\u001b[0m                             '1 positional argument')\n\u001b[0;32m    823\u001b[0m \u001b[1;33m\u001b[0m\u001b[0m\n\u001b[1;32m--> 824\u001b[1;33m         \u001b[1;32mreturn\u001b[0m \u001b[0mdispatch\u001b[0m\u001b[1;33m(\u001b[0m\u001b[0margs\u001b[0m\u001b[1;33m[\u001b[0m\u001b[1;36m0\u001b[0m\u001b[1;33m]\u001b[0m\u001b[1;33m.\u001b[0m\u001b[0m__class__\u001b[0m\u001b[1;33m)\u001b[0m\u001b[1;33m(\u001b[0m\u001b[1;33m*\u001b[0m\u001b[0margs\u001b[0m\u001b[1;33m,\u001b[0m \u001b[1;33m**\u001b[0m\u001b[0mkw\u001b[0m\u001b[1;33m)\u001b[0m\u001b[1;33m\u001b[0m\u001b[1;33m\u001b[0m\u001b[0m\n\u001b[0m\u001b[0;32m    825\u001b[0m \u001b[1;33m\u001b[0m\u001b[0m\n\u001b[0;32m    826\u001b[0m     \u001b[0mfuncname\u001b[0m \u001b[1;33m=\u001b[0m \u001b[0mgetattr\u001b[0m\u001b[1;33m(\u001b[0m\u001b[0mfunc\u001b[0m\u001b[1;33m,\u001b[0m \u001b[1;34m'__name__'\u001b[0m\u001b[1;33m,\u001b[0m \u001b[1;34m'singledispatch function'\u001b[0m\u001b[1;33m)\u001b[0m\u001b[1;33m\u001b[0m\u001b[1;33m\u001b[0m\u001b[0m\n",
      "\u001b[1;32mC:\\ProgramData\\Anaconda3\\lib\\site-packages\\rpy2-2.9.4-py3.7-win-amd64.egg\\rpy2\\robjects\\pandas2ri.py\u001b[0m in \u001b[0;36mri2py_dataframe\u001b[1;34m(obj)\u001b[0m\n\u001b[0;32m    189\u001b[0m \u001b[1;32mdef\u001b[0m \u001b[0mri2py_dataframe\u001b[0m\u001b[1;33m(\u001b[0m\u001b[0mobj\u001b[0m\u001b[1;33m)\u001b[0m\u001b[1;33m:\u001b[0m\u001b[1;33m\u001b[0m\u001b[1;33m\u001b[0m\u001b[0m\n\u001b[0;32m    190\u001b[0m     \u001b[0mitems\u001b[0m \u001b[1;33m=\u001b[0m \u001b[0mtuple\u001b[0m\u001b[1;33m(\u001b[0m\u001b[1;33m(\u001b[0m\u001b[0mk\u001b[0m\u001b[1;33m,\u001b[0m \u001b[0mri2py\u001b[0m\u001b[1;33m(\u001b[0m\u001b[0mv\u001b[0m\u001b[1;33m)\u001b[0m\u001b[1;33m)\u001b[0m \u001b[1;32mfor\u001b[0m \u001b[0mk\u001b[0m\u001b[1;33m,\u001b[0m \u001b[0mv\u001b[0m \u001b[1;32min\u001b[0m \u001b[0mobj\u001b[0m\u001b[1;33m.\u001b[0m\u001b[0mitems\u001b[0m\u001b[1;33m(\u001b[0m\u001b[1;33m)\u001b[0m\u001b[1;33m)\u001b[0m\u001b[1;33m\u001b[0m\u001b[1;33m\u001b[0m\u001b[0m\n\u001b[1;32m--> 191\u001b[1;33m     \u001b[0mres\u001b[0m \u001b[1;33m=\u001b[0m \u001b[0mPandasDataFrame\u001b[0m\u001b[1;33m.\u001b[0m\u001b[0mfrom_items\u001b[0m\u001b[1;33m(\u001b[0m\u001b[0mitems\u001b[0m\u001b[1;33m)\u001b[0m\u001b[1;33m\u001b[0m\u001b[1;33m\u001b[0m\u001b[0m\n\u001b[0m\u001b[0;32m    192\u001b[0m     \u001b[1;32mreturn\u001b[0m \u001b[0mres\u001b[0m\u001b[1;33m\u001b[0m\u001b[1;33m\u001b[0m\u001b[0m\n\u001b[0;32m    193\u001b[0m \u001b[1;33m\u001b[0m\u001b[0m\n",
      "\u001b[1;31mAttributeError\u001b[0m: type object 'DataFrame' has no attribute 'from_items'"
     ]
    }
   ],
   "source": [
    "import rpy2.robjects as robjects\n",
    "from rpy2.robjects import pandas2ri\n",
    "\n",
    "pandas2ri.activate()\n",
    "\n",
    "auto_arima = \"\"\"\n",
    "    function(ts){\n",
    "        library(forecast)\n",
    "        d_params = ndiffs(ts)\n",
    "        model = auto.arima(ts, max.p=2, d=d_params)\n",
    "        forecasted_data = forecast(model, h=3)\n",
    "        out_df = data.frame(forecasted_data$mean)\n",
    "        colnames(out_df) = c('amount')\n",
    "        out_df\n",
    "    }\n",
    "\"\"\"\n",
    "\n",
    "auto_arima = robjects.r(auto_arima) # 모델\n",
    "ts = robjects.r('ts')\n",
    "c = robjects.r('c')\n",
    "\n",
    "final_pred = [ ]\n",
    "\n",
    "for i in tqdm(resampling_data.store_id.unique()):\n",
    "    store = resampling_data[resampling_data['store_id']==i]\n",
    "    start_year = int(min(store['year_month'])[:4])\n",
    "    start_month = int(min(store['year_month'])[5:])\n",
    "    \n",
    "    train = ts(store['amount'], start=c(start_year, start_month), frequency=12)\n",
    "    \n",
    "    forecast = auto_arima(train) #모델\n",
    "    \n",
    "    final_pred.append(np.sum(pandas2ri.ri2py(forecast).values))"
   ]
  },
  {
   "cell_type": "code",
   "execution_count": null,
   "metadata": {},
   "outputs": [],
   "source": [
    "# df = pd.DataFrame.from_dict( dict(friend_list) )"
   ]
  },
  {
   "cell_type": "code",
   "execution_count": null,
   "metadata": {},
   "outputs": [],
   "source": [
    "submission = pd.read_csv('C:/Users/tb990/Documents/studydata/store_credit_card_revenue_data/submission.csv')\n",
    "submission['amount'] = final_pred\n",
    "submission"
   ]
  },
  {
   "cell_type": "markdown",
   "metadata": {},
   "source": [
    "### b. 지수평활법"
   ]
  },
  {
   "cell_type": "code",
   "execution_count": null,
   "metadata": {},
   "outputs": [],
   "source": [
    "import rpy2.robjects as robjects\n",
    "from rpy2.robjects import pandas2ri\n",
    "\n",
    "pandas2ri.activate()\n",
    "\n",
    "ets = \"\"\"\n",
    "    function(ts){\n",
    "        library(forcast)\n",
    "        model = ets(ts)\n",
    "        forecasted_data = forcast(model, h=3) \n",
    "        out_df = data.frame(forecasted_data$mean)\n",
    "        colnames(out_df) = c('amount')\n",
    "        out_df\n",
    "    }\n",
    "\"\"\" # 8, 9번째 줄\n",
    "\n",
    "ets = robjects.r(ets) # 모델\n",
    "ts = robjects.r('ts')\n",
    "c = robjects.r('c')\n",
    "\n",
    "final_pred = [ ]\n",
    "\n",
    "for i in tqdm(resampling_data.store_id.unique()):\n",
    "    store = resampling_data[resampling_data['store_id']==i]\n",
    "    start_year = int(min(store['year_month'])[:4])\n",
    "    start_month = int(min(store['year_month'])[5:])\n",
    "    \n",
    "    train = ts(store['amount'], start=c(start_year, start_month), frequency=12)\n",
    "    \n",
    "    forecast = ets(train) # 모델\n",
    "    \n",
    "    final_pred.append(np.sum(pandas2ri.ri2py(forecast).values))"
   ]
  },
  {
   "cell_type": "code",
   "execution_count": null,
   "metadata": {},
   "outputs": [],
   "source": [
    "submission = pd.read_csv('C:/Users/tb990/Documents/studydata/store_credit_card_revenue_data/submission.csv')\n",
    "submission['amount'] = final_pred\n",
    "submission.to_csv('submission.csv', index=False)\n",
    "submission"
   ]
  },
  {
   "cell_type": "markdown",
   "metadata": {},
   "source": [
    "### c. STL 분해를 적용한 지수평활법"
   ]
  },
  {
   "cell_type": "code",
   "execution_count": null,
   "metadata": {},
   "outputs": [],
   "source": [
    "import rpy2.robjects as robjects\n",
    "from rpy2.robjects import pandas2ri\n",
    "\n",
    "pandas2ri.activate()\n",
    "\n",
    "stlm = \"\"\"\n",
    "    function(ts){\n",
    "        library(forcast)\n",
    "        model = stlm(ts, s.window=\"periodic\", method='ets')\n",
    "        forecasted_data = forcast(model, h=3) \n",
    "        out_df = data.frame(forecasted_data$mean)\n",
    "        colnames(out_df) = c('amount')\n",
    "        out_df\n",
    "    }\n",
    "\"\"\" # 9번째 줄\n",
    "\n",
    "ets = \"\"\"\n",
    "    function(ts){\n",
    "        library(forcast)\n",
    "        model = ets(ts)\n",
    "        forecasted_data = forcast(model, h=3) \n",
    "        out_df = data.frame(forecasted_data$mean)\n",
    "        colnames(out_df) = c('amount')\n",
    "        out_df\n",
    "    }\n",
    "\"\"\"\n",
    "\n",
    "stlm = robjects.r(ets) # 모델\n",
    "ets = robjects.r(ets) \n",
    "ts = robjects.r('ts')\n",
    "c = robjects.r('c')\n",
    "\n",
    "final_pred = [ ]\n",
    "\n",
    "for i in tqdm(resampling_data.store_id.unique()):\n",
    "    store = resampling_data[resampling_data['store_id']==i]\n",
    "    data_len = len(store) # 추가\n",
    "    \n",
    "    start_year = int(min(store['year_month'])[:4])\n",
    "    start_month = int(min(store['year_month'])[5:])\n",
    "    \n",
    "    train = ts(store['amount'], start=c(start_year, start_month), frequency=12)\n",
    "    \n",
    "    if data_len > 24: # stlm모델은 최소 24개월보다 많은 데이터를 요구하므로\n",
    "        forecast = stlm(train)\n",
    "    else:\n",
    "        forecast = ets(train) # 모델\n",
    "    \n",
    "    final_pred.append(np.sum(pandas2ri.ri2py(forecast).values))"
   ]
  },
  {
   "cell_type": "code",
   "execution_count": null,
   "metadata": {},
   "outputs": [],
   "source": [
    "submission = pd.read_csv('C:/Users/tb990/Documents/studydata/store_credit_card_revenue_data/submission.csv')\n",
    "submission['amount'] = final_pred\n",
    "submission.to_csv('submission.csv', index=False)\n",
    "submission"
   ]
  }
 ],
 "metadata": {
  "kernelspec": {
   "display_name": "Python 3",
   "language": "python",
   "name": "python3"
  },
  "language_info": {
   "codemirror_mode": {
    "name": "ipython",
    "version": 3
   },
   "file_extension": ".py",
   "mimetype": "text/x-python",
   "name": "python",
   "nbconvert_exporter": "python",
   "pygments_lexer": "ipython3",
   "version": "3.7.1"
  }
 },
 "nbformat": 4,
 "nbformat_minor": 2
}
